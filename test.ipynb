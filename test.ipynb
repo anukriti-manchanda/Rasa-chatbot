{
 "cells": [
  {
   "cell_type": "code",
   "execution_count": 2,
   "metadata": {},
   "outputs": [
    {
     "name": "stdout",
     "output_type": "stream",
     "text": [
      "The weather in New York is overcast clouds with a temperature of 22.48°C.\n"
     ]
    }
   ],
   "source": [
    "import requests\n",
    "\n",
    "def get_weather(api_key, city):\n",
    "    base_url = \"http://api.openweathermap.org/data/2.5/weather\"\n",
    "    params = {\n",
    "        \"q\": city,\n",
    "        \"appid\": api_key,\n",
    "        \"units\": \"metric\"  # You can change this to \"imperial\" for Fahrenheit\n",
    "    }\n",
    "\n",
    "    response = requests.get(base_url, params=params)\n",
    "    data = response.json()\n",
    "\n",
    "    if response.status_code == 200:\n",
    "        temperature = data[\"main\"][\"temp\"]\n",
    "        description = data[\"weather\"][0][\"description\"]\n",
    "        print(f\"The weather in {city} is {description} with a temperature of {temperature}°C.\")\n",
    "    else:\n",
    "        print(\"Sorry, couldn't retrieve weather information.\")\n",
    "\n",
    "# Replace with your OpenWeatherMap API key\n",
    "api_key = \"69aa8775bdaf718c8f40a2c2c90c2b91\"\n",
    "city = \"New York\"  # Replace with the city you want to get weather for\n",
    "\n",
    "get_weather(api_key, city)\n"
   ]
  }
 ],
 "metadata": {
  "kernelspec": {
   "display_name": "Python 3",
   "language": "python",
   "name": "python3"
  },
  "language_info": {
   "codemirror_mode": {
    "name": "ipython",
    "version": 3
   },
   "file_extension": ".py",
   "mimetype": "text/x-python",
   "name": "python",
   "nbconvert_exporter": "python",
   "pygments_lexer": "ipython3",
   "version": "3.7.17"
  },
  "orig_nbformat": 4
 },
 "nbformat": 4,
 "nbformat_minor": 2
}
